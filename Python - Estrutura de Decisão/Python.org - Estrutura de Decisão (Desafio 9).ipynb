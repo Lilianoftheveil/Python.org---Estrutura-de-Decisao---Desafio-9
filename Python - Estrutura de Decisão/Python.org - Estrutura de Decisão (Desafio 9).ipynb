{
 "cells": [
  {
   "cell_type": "code",
   "execution_count": null,
   "id": "f704985c",
   "metadata": {},
   "outputs": [],
   "source": [
    "Python - Lista de Exercícios (Estrutura de Decisão) \n",
    "link: https://wiki.python.org.br/EstruturaDeDecisao"
   ]
  },
  {
   "cell_type": "markdown",
   "id": "f36f0365",
   "metadata": {},
   "source": [
    "9) Faça um Programa que leia três números e mostre-os em ordem decrescente."
   ]
  },
  {
   "cell_type": "code",
   "execution_count": null,
   "id": "291025e7",
   "metadata": {},
   "outputs": [],
   "source": [
    "Obs.: Visando desenvolver o programa de forma mais dinâmica e menos suscetível a erros, adicionei \n",
    "outras estruturas no corpo do código. De modo que apenas números sejam aceitos durante sua execução\n",
    "e, considerando também a possibilidade de dois ou, todos os números digitados, possuírem o mesmo valor."
   ]
  },
  {
   "cell_type": "code",
   "execution_count": null,
   "id": "eb6d47b6",
   "metadata": {},
   "outputs": [],
   "source": [
    "while True:\n",
    "  x = input(\"Digite o primeiro número: \")\n",
    "  y = input(\"Digite o segundo número: \")\n",
    "  z = input(\"Digite o terceiro número: \")\n",
    "  try:\n",
    "    float(x), float(y), float(z)\n",
    "    if x > y and y > z:\n",
    "      print(f\"{x}, {y} e {z}\")\n",
    "      break\n",
    "    elif x > z and z > y:\n",
    "      print(f\"{x}, {z} e {y}\")\n",
    "      break\n",
    "    elif y > x and x > z:\n",
    "      print(f\"{y}, {x} e {z}\")\n",
    "      break\n",
    "    elif y > z and z > x:\n",
    "      print(f\"{y}, {z} e {x}\")\n",
    "      break\n",
    "    elif z > x and x > y:\n",
    "      print(f\"{z}, {x} e {y}\")\n",
    "      break\n",
    "    elif z > y and y > x:\n",
    "      print(f\"{z}, {y} e {x}\")\n",
    "      break\n",
    "    elif x == y and x > z:\n",
    "      print(f\"{x}, {y} e {z}\")\n",
    "      break \n",
    "    elif x == y and x < z:\n",
    "      print(f\"{z}, {x} e {y}\")\n",
    "      break\n",
    "    elif x == z and x > y:\n",
    "      print(f\"{x}, {z} e {y}\")\n",
    "      break\n",
    "    elif x == z and x < y:\n",
    "      print(f\"{y}, {x} e {z}\")\n",
    "      break\n",
    "    elif y == z and y > x:\n",
    "      print(f\"{y}, {z} e {x}\")\n",
    "      break\n",
    "    elif y == z and y < x:\n",
    "      print(f\"{x}, {y} e {z}\")\n",
    "      break      \n",
    "    elif x == y and x == z:\n",
    "      print(\"Os três números possuem o mesmo valor.\")\n",
    "      break\n",
    "  except:\n",
    "    print(\"Por favor, digite apenas números.\")\n",
    "    continue"
   ]
  }
 ],
 "metadata": {
  "kernelspec": {
   "display_name": "Python 3 (ipykernel)",
   "language": "python",
   "name": "python3"
  },
  "language_info": {
   "codemirror_mode": {
    "name": "ipython",
    "version": 3
   },
   "file_extension": ".py",
   "mimetype": "text/x-python",
   "name": "python",
   "nbconvert_exporter": "python",
   "pygments_lexer": "ipython3",
   "version": "3.8.10"
  }
 },
 "nbformat": 4,
 "nbformat_minor": 5
}
